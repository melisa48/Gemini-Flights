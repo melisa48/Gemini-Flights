{
 "cells": [
  {
   "cell_type": "code",
   "execution_count": 1,
   "metadata": {},
   "outputs": [],
   "source": [
    "# Import necessary modules\n",
    "import vertexai\n",
    "import streamlit as st\n",
    "from vertexai.preview import generative_models\n",
    "from vertexai.preview.generative_models import GenerativeModel, Tool, Part, Content, ChatSession"
   ]
  },
  {
   "cell_type": "code",
   "execution_count": 2,
   "metadata": {},
   "outputs": [],
   "source": [
    "project = \"sample-gemini\"\n",
    "vertexai.init(project=project)"
   ]
  },
  {
   "cell_type": "code",
   "execution_count": 3,
   "metadata": {},
   "outputs": [],
   "source": [
    "# Define the search_tool and book_flight function declarations\n",
    "get_search_flights = generative_models.FunctionDeclaration(\n",
    "    name=\"get_search_flights\",\n",
    "    description=\"Tool for searching a flight with origin, destination, departure date, and passenger count\",\n",
    "    parameters={\n",
    "        \"type\": \"object\",\n",
    "        \"properties\": {\n",
    "            \"origin\": {\n",
    "                \"type\": \"string\",\n",
    "                \"description\": \"The airport of departure for the flight given in airport code such as LAX, SFO, BOS, etc.\"\n",
    "            },\n",
    "            \"destination\": {\n",
    "                \"type\": \"string\",\n",
    "                \"description\": \"The airport of destination for the flight given in airport code such as LAX, SFO, BOS, etc.\"\n",
    "            },\n",
    "            \"departure_date\": {\n",
    "                \"type\": \"string\",\n",
    "                \"format\": \"date\",\n",
    "                \"description\": \"The date of departure for the flight in YYYY-MM-DD format\"\n",
    "            },\n",
    "            \"return_date\": {\n",
    "                \"type\": \"string\",\n",
    "                \"format\": \"date\",\n",
    "                \"description\": \"The date of return for the flight in YYYY-MM-DD format (optional)\"\n",
    "            },\n",
    "            \"passenger_count\": {\n",
    "                \"type\": \"integer\",\n",
    "                \"description\": \"The number of passengers\"\n",
    "            }\n",
    "        },\n",
    "        \"required\": [\n",
    "            \"origin\",\n",
    "            \"destination\",\n",
    "            \"departure_date\",\n",
    "            \"passenger_count\"\n",
    "        ]\n",
    "    },\n",
    ")\n",
    "\n",
    "book_flight_declaration = generative_models.FunctionDeclaration(\n",
    "    name=\"book_flight\",\n",
    "    description=\"Tool for booking a flight by providing flight ID, seat type, and number of seats\",\n",
    "    parameters={\n",
    "        \"type\": \"object\",\n",
    "        \"properties\": {\n",
    "            \"flight_id\": {\"type\": \"integer\"},\n",
    "            \"seat_type\": {\"type\": \"string\"},\n",
    "            \"num_seats\": {\"type\": \"integer\"}\n",
    "        },\n",
    "        \"required\": [\"flight_id\", \"seat_type\", \"num_seats\"]\n",
    "    }\n",
    ")\n",
    "\n",
    "# Instantiate tool with function declarations\n",
    "search_tool = generative_models.Tool(\n",
    "    function_declarations=[get_search_flights, book_flight_declaration],\n",
    ")"
   ]
  },
  {
   "cell_type": "code",
   "execution_count": 4,
   "metadata": {},
   "outputs": [],
   "source": [
    "# Define generation configuration\n",
    "config = generative_models.GenerationConfig(temperature=0.4)\n",
    "\n",
    "# Load model with tool and configuration\n",
    "model = generative_models.GenerativeModel(\n",
    "    \"gemini-pro\",\n",
    "    tools=[search_tool],\n",
    "    generation_config=config\n",
    ")"
   ]
  }
 ],
 "metadata": {
  "kernelspec": {
   "display_name": "env",
   "language": "python",
   "name": "python3"
  },
  "language_info": {
   "codemirror_mode": {
    "name": "ipython",
    "version": 3
   },
   "file_extension": ".py",
   "mimetype": "text/x-python",
   "name": "python",
   "nbconvert_exporter": "python",
   "pygments_lexer": "ipython3",
   "version": "3.12.2"
  }
 },
 "nbformat": 4,
 "nbformat_minor": 2
}
